{
 "cells": [
  {
   "cell_type": "code",
   "execution_count": null,
   "metadata": {},
   "outputs": [],
   "source": [
    "from bpe import Tokenizer\n",
    "tokenizer = Tokenizer()\n",
    "text = \"aaabdaaabac\"\n",
    "tokenizer.train(text, 256 + 3) # 256 are the byte tokens, then do 3 merges\n",
    "print(tokenizer.encode(text))\n",
    "# [258, 100, 258, 97, 99]\n",
    "print(tokenizer.decode([258, 100, 258, 97, 99]))\n",
    "print(text == tokenizer.decode(tokenizer.encode(text)))\n",
    "# aaabdaaabac\n",
    "# tokenizer.save(\"toy\")\n",
    "# writes two files: toy.model (for loading) and toy.vocab (for viewing)\n",
    "\n"
   ]
  },
  {
   "cell_type": "code",
   "execution_count": null,
   "metadata": {},
   "outputs": [],
   "source": [
    "from transformers import AutoTokenizer\n",
    "\n",
    "# 加载 GPT-2 tokenizer\n",
    "tokenizer = AutoTokenizer.from_pretrained(\"gpt2\")\n",
    "\n",
    "# 测试 tokenizer\n",
    "text = \"Hello, how are you?\"\n",
    "encoded_input = tokenizer(text)\n",
    "print(tokenizer)\n"
   ]
  },
  {
   "cell_type": "code",
   "execution_count": null,
   "metadata": {},
   "outputs": [],
   "source": [
    "from bpe import Tokenizer\n",
    "tokenizer = Tokenizer()\n",
    "with open('./manual.txt', 'r', encoding='utf-8') as file:\n",
    "    text = file.read()\n",
    "tokenizer.train(text, 1024)\n",
    "print(tokenizer.encode(text))\n",
    "print(text == tokenizer.decode(tokenizer.encode(text)))\n",
    "tokenizer.save()"
   ]
  },
  {
   "cell_type": "code",
   "execution_count": null,
   "metadata": {},
   "outputs": [],
   "source": [
    "text = \"hello123!!!? (안녕하세요!) 😉\"\n",
    "\n",
    "# tiktoken\n",
    "import tiktoken\n",
    "enc = tiktoken.get_encoding(\"cl100k_base\")\n",
    "print(enc.encode(text))\n",
    "# [15339, 4513, 12340, 30, 320, 31495, 230, 75265, 243, 92245, 16715, 57037]\n",
    "\n",
    "# ours\n",
    "from minbpe import GPT4Tokenizer\n",
    "tokenizer = GPT4Tokenizer()\n",
    "print(tokenizer.encode(text))\n",
    "# [15339, 4513, 12340, 30, 320, 31495, 230, 75265, 243, 92245, 16715, 57037]"
   ]
  }
 ],
 "metadata": {
  "kernelspec": {
   "display_name": "venv",
   "language": "python",
   "name": "python3"
  },
  "language_info": {
   "codemirror_mode": {
    "name": "ipython",
    "version": 3
   },
   "file_extension": ".py",
   "mimetype": "text/x-python",
   "name": "python",
   "nbconvert_exporter": "python",
   "pygments_lexer": "ipython3",
   "version": "3.10.12"
  }
 },
 "nbformat": 4,
 "nbformat_minor": 2
}
