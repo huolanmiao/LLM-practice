{
 "cells": [
  {
   "cell_type": "code",
   "execution_count": 8,
   "metadata": {},
   "outputs": [
    {
     "name": "stdout",
     "output_type": "stream",
     "text": [
      "tensor([[1, 2, 3],\n",
      "        [4, 2, 6],\n",
      "        [4, 2, 6]])\n"
     ]
    }
   ],
   "source": [
    "import torch\n",
    "\n",
    "# 创建一个输入张量\n",
    "input_tensor = torch.tensor([[1, 2, 3], [4, 5, 6]])\n",
    "\n",
    "# 创建一个索引张量\n",
    "index_tensor = torch.tensor([[0, 0, 0], [1, 0, 1], [1, 0, 1]])\n",
    "\n",
    "# 在 dim=1（列维度）上收集元素\n",
    "output = torch.gather(input_tensor, dim=0, index=index_tensor)\n",
    "\n",
    "print(output)\n",
    "# 输出: tensor([[1, 3],\n",
    "#                [5, 4]])\n"
   ]
  }
 ],
 "metadata": {
  "kernelspec": {
   "display_name": "venv",
   "language": "python",
   "name": "python3"
  },
  "language_info": {
   "codemirror_mode": {
    "name": "ipython",
    "version": 3
   },
   "file_extension": ".py",
   "mimetype": "text/x-python",
   "name": "python",
   "nbconvert_exporter": "python",
   "pygments_lexer": "ipython3",
   "version": "3.10.12"
  }
 },
 "nbformat": 4,
 "nbformat_minor": 2
}
